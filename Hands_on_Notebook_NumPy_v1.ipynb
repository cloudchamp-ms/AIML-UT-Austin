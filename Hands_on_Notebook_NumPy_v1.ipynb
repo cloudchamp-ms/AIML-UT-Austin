{
  "cells": [
    {
      "cell_type": "markdown",
      "metadata": {
        "id": "view-in-github",
        "colab_type": "text"
      },
      "source": [
        "<a href=\"https://colab.research.google.com/github/cloudchamp-ms/AIML-UT-Austin/blob/develop/Hands_on_Notebook_NumPy_v1.ipynb\" target=\"_parent\"><img src=\"https://colab.research.google.com/assets/colab-badge.svg\" alt=\"Open In Colab\"/></a>"
      ]
    },
    {
      "cell_type": "code",
      "execution_count": null,
      "metadata": {
        "id": "ynE9R19cPIMT"
      },
      "outputs": [],
      "source": [
        "# The first step of using numpy is to tell python to import it\n",
        "import numpy as np"
      ]
    },
    {
      "cell_type": "markdown",
      "metadata": {
        "id": "V7NoTi0kTGVz"
      },
      "source": [
        "### 2.1 NumPy Arrays"
      ]
    },
    {
      "cell_type": "markdown",
      "metadata": {
        "id": "cYsQgeSWalcG"
      },
      "source": [
        "**NumPy Array**\n",
        "* An array is a data structure that stores values of same data type.\n",
        "* While python lists can contain values corresponding to different data types, arrays in python can only contain values corresponding to the same data type.\n",
        "* However python lists fail to deliver the performance required while computing large sets of numerical data. To address this issue we use NumPy arrays.\n",
        "* We can create NumPy arrays by converting a list to an array.\n"
      ]
    },
    {
      "cell_type": "code",
      "execution_count": null,
      "metadata": {
        "id": "-iMbhbKUS01I"
      },
      "outputs": [],
      "source": [
        "# defining a list of different car companies or string elements\n",
        "arr_str = ['Mercedes', 'BMW', 'Audi', 'Ferrari', 'Tesla']\n",
        "\n",
        "# defining a list of number of cylinders in car or numerical elements\n",
        "arr_num = [5, 4, 6, 7, 3]"
      ]
    },
    {
      "cell_type": "code",
      "execution_count": null,
      "metadata": {
        "colab": {
          "base_uri": "https://localhost:8080/"
        },
        "id": "z8kfV796S0xz",
        "outputId": "d51646f2-f6f8-49a9-e0b8-5fe1793bcd80"
      },
      "outputs": [
        {
          "output_type": "stream",
          "name": "stdout",
          "text": [
            "Numpy Array (arr_str):  ['Mercedes' 'BMW' 'Audi' 'Ferrari' 'Tesla']\n",
            "Numpy Array (arr_num):  [5 4 6 7 3]\n"
          ]
        }
      ],
      "source": [
        "# connverting the list arr_str to a NumPy array\n",
        "np_arr_str = np.array(arr_str)\n",
        "\n",
        "\n",
        "# connverting the list arr_num to a NumPy array\n",
        "np_arr_num = np.array(arr_num)\n",
        "\n",
        "# checking the output\n",
        "print('Numpy Array (arr_str): ',np_arr_str)\n",
        "print('Numpy Array (arr_num): ',np_arr_num)"
      ]
    },
    {
      "cell_type": "markdown",
      "metadata": {
        "id": "fNUnCIRbS0vz"
      },
      "source": [
        "The resuts look similar to a list but arr_str and arr_num have been converted to NumPy arrays. Let's check the data type to confirm this."
      ]
    },
    {
      "cell_type": "code",
      "source": [
        "x_np_arr = np.array([\"Hi \", 'Hello World'])\n",
        "print(x_np_arr)\n",
        "print(x_np_arr.dtype)\n"
      ],
      "metadata": {
        "colab": {
          "base_uri": "https://localhost:8080/"
        },
        "id": "g8VL_4yx7Gq1",
        "outputId": "433043fe-3574-4d19-a787-96acb2f82ff5"
      },
      "execution_count": null,
      "outputs": [
        {
          "output_type": "stream",
          "name": "stdout",
          "text": [
            "['Hi ' 'Hello World']\n",
            "<U11\n"
          ]
        }
      ]
    },
    {
      "cell_type": "code",
      "execution_count": null,
      "metadata": {
        "colab": {
          "base_uri": "https://localhost:8080/"
        },
        "id": "Cc_-eibuS0sr",
        "outputId": "927b8dde-c376-4790-f35e-d1cb79e5dd3f"
      },
      "outputs": [
        {
          "output_type": "stream",
          "name": "stdout",
          "text": [
            "Data type of arr_str:  <class 'list'>\n",
            "Data type of arr_num:  <class 'list'>\n",
            "Data type of np_arr_str:  <class 'numpy.ndarray'>\n",
            "Data type of np_arr_num:  <class 'numpy.ndarray'>\n"
          ]
        }
      ],
      "source": [
        "# printing the data type of lists\n",
        "print('Data type of arr_str: ',type(arr_str))\n",
        "print('Data type of arr_num: ',type(arr_num))\n",
        "\n",
        "# printing the data type after conversion of lists to array\n",
        "print('Data type of np_arr_str: ',type(np_arr_str))\n",
        "print('Data type of np_arr_num: ',type(np_arr_num))"
      ]
    },
    {
      "cell_type": "markdown",
      "metadata": {
        "id": "D5MBk_c0gorg"
      },
      "source": [
        "[link text](https://)* The above output confirms that both the lists were successfully converted to arrays"
      ]
    },
    {
      "cell_type": "markdown",
      "metadata": {
        "id": "vO-p9figS0qt"
      },
      "source": [
        "**NumPy Matrix**"
      ]
    },
    {
      "cell_type": "markdown",
      "metadata": {
        "id": "63nVxGI-dEFn"
      },
      "source": [
        "* A matrix is a two-dimensional data structure where elements are arranged into rows and columns.\n",
        "* A matrix can be created by using list of lists"
      ]
    },
    {
      "cell_type": "code",
      "execution_count": null,
      "metadata": {
        "colab": {
          "base_uri": "https://localhost:8080/"
        },
        "id": "eHL0aPSOS0fT",
        "outputId": "0cd21de2-affe-4871-f855-df51aed9f544"
      },
      "outputs": [
        {
          "output_type": "stream",
          "name": "stdout",
          "text": [
            "[[1 2 1]\n",
            " [4 5 9]\n",
            " [1 8 9]]\n"
          ]
        }
      ],
      "source": [
        "# let's say we have information of different number of cylinders in a car and we want to display them in a matrix format\n",
        "matrix = np.array([[1,2,1],[4,5,9],[1,8,9]])\n",
        "print(matrix)"
      ]
    },
    {
      "cell_type": "code",
      "execution_count": null,
      "metadata": {
        "colab": {
          "base_uri": "https://localhost:8080/"
        },
        "id": "1l5-7_3T2svj",
        "outputId": "e13d3a72-8841-44a5-e7df-feab58098bcd"
      },
      "outputs": [
        {
          "output_type": "stream",
          "name": "stdout",
          "text": [
            "Data type of matrix:  <class 'numpy.ndarray'>\n"
          ]
        }
      ],
      "source": [
        "print('Data type of matrix: ',type(matrix))"
      ]
    },
    {
      "cell_type": "markdown",
      "metadata": {
        "id": "ic8DdniJAYi4"
      },
      "source": [
        "* We see that all the NumPy objects have data type as ndarray"
      ]
    },
    {
      "cell_type": "markdown",
      "metadata": {
        "id": "s_QCIWxNPywk"
      },
      "source": [
        "### 2.2 NumPy Functions"
      ]
    },
    {
      "cell_type": "markdown",
      "metadata": {
        "id": "9ByN9uM8dIp9"
      },
      "source": [
        "**There are different ways to create NumPy arrays using the functions available in NumPy library**"
      ]
    },
    {
      "cell_type": "markdown",
      "metadata": {
        "id": "mJD-BCvcdjQY"
      },
      "source": [
        "**Using np.arange() function**\n",
        "* The np.arange() function returns an array with evenly spaced elements as per the interval. The interval mentioned is half-opened i.e. start is included but stop is excluded.\n",
        "* It has the following paramaters:\n",
        "  * start : start of interval range. By default start = 0\n",
        "  * stop  : end of interval range\n",
        "  * step  : step size of interval. By default step size = 1"
      ]
    },
    {
      "cell_type": "code",
      "execution_count": null,
      "metadata": {
        "colab": {
          "base_uri": "https://localhost:8080/"
        },
        "id": "h6yhwhCfdhrO",
        "outputId": "3be46bf9-a0a6-482d-d723-c2e569d361a6"
      },
      "outputs": [
        {
          "output_type": "stream",
          "name": "stdout",
          "text": [
            "[0 1 2 3 4 5 6 7 8 9]\n",
            "[ 0  1  2  3  4  5  6  7  8  9 10]\n"
          ]
        }
      ],
      "source": [
        "arr2  = np.arange(start = 0, stop = 10) # 10 will be excluded from the output\n",
        "print(arr2)\n",
        "\n",
        "# or\n",
        "\n",
        "arr2  = np.arange(0,11)\n",
        "print(arr2)"
      ]
    },
    {
      "cell_type": "code",
      "execution_count": null,
      "metadata": {
        "colab": {
          "base_uri": "https://localhost:8080/"
        },
        "id": "EBQxWv87gij1",
        "outputId": "c86383f6-97e7-43de-d9ac-7c7b45880500"
      },
      "outputs": [
        {
          "output_type": "execute_result",
          "data": {
            "text/plain": [
              "array([ 0,  5, 10, 15])"
            ]
          },
          "metadata": {},
          "execution_count": 9
        }
      ],
      "source": [
        "# adding a step size of 5 to create an array\n",
        "arr3  = np.arange(start = 0, stop = 20, step = 5)\n",
        "arr3"
      ]
    },
    {
      "cell_type": "markdown",
      "metadata": {
        "id": "fadu1DMxge1S"
      },
      "source": [
        "**Using np.linspace() function**\n",
        "* The np.linspace() function returns numbers which are evenly distributed with respect to interval. Here the start and stop both are included.            \n",
        "*It has the following parameters:              \n",
        " * start: start of interval range. By default start = 0\n",
        " * stop: end of interval range\n",
        " * num : No. of samples to generate. By default num = 50"
      ]
    },
    {
      "cell_type": "code",
      "execution_count": null,
      "metadata": {
        "colab": {
          "base_uri": "https://localhost:8080/"
        },
        "id": "AvnueiSGdhb7",
        "outputId": "53e53806-a5d2-4747-cf5b-21f1f72b2e61"
      },
      "outputs": [
        {
          "output_type": "execute_result",
          "data": {
            "text/plain": [
              "array([0.        , 0.10204082, 0.20408163, 0.30612245, 0.40816327,\n",
              "       0.51020408, 0.6122449 , 0.71428571, 0.81632653, 0.91836735,\n",
              "       1.02040816, 1.12244898, 1.2244898 , 1.32653061, 1.42857143,\n",
              "       1.53061224, 1.63265306, 1.73469388, 1.83673469, 1.93877551,\n",
              "       2.04081633, 2.14285714, 2.24489796, 2.34693878, 2.44897959,\n",
              "       2.55102041, 2.65306122, 2.75510204, 2.85714286, 2.95918367,\n",
              "       3.06122449, 3.16326531, 3.26530612, 3.36734694, 3.46938776,\n",
              "       3.57142857, 3.67346939, 3.7755102 , 3.87755102, 3.97959184,\n",
              "       4.08163265, 4.18367347, 4.28571429, 4.3877551 , 4.48979592,\n",
              "       4.59183673, 4.69387755, 4.79591837, 4.89795918, 5.        ])"
            ]
          },
          "metadata": {},
          "execution_count": 10
        }
      ],
      "source": [
        "matrix2 = np.linspace(0,5) # by default 50 evenly spaced values will be generated between 0 and 5\n",
        "matrix2"
      ]
    },
    {
      "cell_type": "markdown",
      "metadata": {
        "id": "zR_AydpiBToe"
      },
      "source": [
        "**How are these values getting generated?**\n",
        "\n",
        "The step size or the difference between each element will be decided by the following formula:\n",
        "\n",
        "**(stop - start) / (total elements - 1)**\n",
        "\n",
        "So, in this case:\n",
        "(5 - 0) / 49 = 0.10204082\n",
        "\n",
        "The first value will be 0.10204082, the second value will be 0.10204082 + 0.10204082, the third value will be 0.10204082 + 0.10204082 +0.10204082, and so on."
      ]
    },
    {
      "cell_type": "code",
      "execution_count": null,
      "metadata": {
        "colab": {
          "base_uri": "https://localhost:8080/"
        },
        "id": "0VDGGmj2dhPp",
        "outputId": "c9ecc84f-1557-4420-bd14-13b80519bfdc"
      },
      "outputs": [
        {
          "output_type": "execute_result",
          "data": {
            "text/plain": [
              "array([10., 11., 12., 13., 14., 15., 16., 17., 18., 19., 20.])"
            ]
          },
          "metadata": {},
          "execution_count": 17
        }
      ],
      "source": [
        "# generating 10 evenly spaced values between 10 and 20\n",
        "matrix3 = np.linspace(10,20,11\n",
        "                      ).round(2)\n",
        "matrix3"
      ]
    },
    {
      "cell_type": "code",
      "source": [
        "print((20-10)/9)"
      ],
      "metadata": {
        "colab": {
          "base_uri": "https://localhost:8080/"
        },
        "id": "5HgDeBuDNIUB",
        "outputId": "81a5ca8d-be8f-463b-a275-7c844d92e52e"
      },
      "execution_count": null,
      "outputs": [
        {
          "output_type": "stream",
          "name": "stdout",
          "text": [
            "1.1111111111111112\n"
          ]
        }
      ]
    },
    {
      "cell_type": "markdown",
      "metadata": {
        "id": "8Nxn51w2dhEE"
      },
      "source": [
        "**Similarly we can create matrices using the functions available in NumPy library**"
      ]
    },
    {
      "cell_type": "markdown",
      "metadata": {
        "id": "x9brl-h9dg2b"
      },
      "source": [
        "**Using np.zeros()**\n",
        "\n",
        "* The np.zeros() is a function for creating a matrix and performing matrix operations in NumPy.\n",
        "* It returns a matrix filled with zeros of the given shape.\n",
        "* It has the following parameters:    \n",
        "  * shape : Number of rows and columns in the output matrix.\n",
        "  * dtype: data type of the elements in the matrix, by default the value is set to `float`."
      ]
    },
    {
      "cell_type": "code",
      "execution_count": null,
      "metadata": {
        "colab": {
          "base_uri": "https://localhost:8080/"
        },
        "id": "zcfKm8ENjNQv",
        "outputId": "4a8d5249-f458-4d18-cb09-54c306d313c6"
      },
      "outputs": [
        {
          "data": {
            "text/plain": [
              "array([[0., 0., 0., 0., 0.],\n",
              "       [0., 0., 0., 0., 0.],\n",
              "       [0., 0., 0., 0., 0.]])"
            ]
          },
          "execution_count": 11,
          "metadata": {},
          "output_type": "execute_result"
        }
      ],
      "source": [
        "matrix4 = np.zeros([3,5])\n",
        "matrix4"
      ]
    },
    {
      "cell_type": "markdown",
      "metadata": {
        "id": "8jy4YykQjICK"
      },
      "source": [
        "**Using np.ones()**\n",
        "\n",
        "* The np.ones() is another function for creating a matrix and performing matrix operations in NumPy.\n",
        "* It returns a matrix of given shape and type, filled with ones.\n",
        "* It has the following parameters:  \n",
        "  * shape : Number of rows and columns in the output matrix.\n",
        "  * dtype: data type of the elements in the matrix, by default the value is set to `float`."
      ]
    },
    {
      "cell_type": "code",
      "execution_count": null,
      "metadata": {
        "colab": {
          "base_uri": "https://localhost:8080/"
        },
        "id": "JJ-hv5dcjRN1",
        "outputId": "36153c38-6165-452a-a1ac-d38a31f07661"
      },
      "outputs": [
        {
          "data": {
            "text/plain": [
              "array([[1., 1., 1., 1., 1.],\n",
              "       [1., 1., 1., 1., 1.],\n",
              "       [1., 1., 1., 1., 1.]])"
            ]
          },
          "execution_count": 12,
          "metadata": {},
          "output_type": "execute_result"
        }
      ],
      "source": [
        "matrix5 = np.ones([3,5])\n",
        "matrix5"
      ]
    },
    {
      "cell_type": "markdown",
      "metadata": {
        "id": "ge-0i4W2jH4S"
      },
      "source": [
        "**Using np.eye()**\n",
        "* The np.eye() is a function for creating a matrix and performing matrix operations in NumPy.\n",
        "* It returns a matrix with ones on the diagonal and zeros elsewhere.\n",
        "* It has the following parameters:\n",
        "  * n: Number of rows and columns in the output matrix\n",
        "  * dtype: data type of the elements in the matrix, by default the value is set to `float`."
      ]
    },
    {
      "cell_type": "code",
      "execution_count": null,
      "metadata": {
        "colab": {
          "base_uri": "https://localhost:8080/"
        },
        "id": "2a0_OXeWjHou",
        "outputId": "9830d274-756f-4a26-aa37-5dca29341c8b"
      },
      "outputs": [
        {
          "data": {
            "text/plain": [
              "array([[1., 0., 0., 0., 0.],\n",
              "       [0., 1., 0., 0., 0.],\n",
              "       [0., 0., 1., 0., 0.],\n",
              "       [0., 0., 0., 1., 0.],\n",
              "       [0., 0., 0., 0., 1.]])"
            ]
          },
          "execution_count": 13,
          "metadata": {},
          "output_type": "execute_result"
        }
      ],
      "source": [
        "matrix6 = np.eye(5)\n",
        "matrix6"
      ]
    },
    {
      "cell_type": "markdown",
      "metadata": {
        "id": "DkJp6gB1dgHl"
      },
      "source": [
        "**We can also convert a one dimension array to a matrix. This can be done by using the np.reshape() function.**"
      ]
    },
    {
      "cell_type": "markdown",
      "metadata": {
        "id": "ifxHtcyyuVsX"
      },
      "source": [
        "* The shape of an array basically tells the number of elements and dimensions of the array. Reshaping a Numpy array simply means changing the shape of the given array.\n",
        "* By reshaping an array we can add or remove dimensions or change number of elements in each dimension.\n",
        "* In order to reshape a NumPy array, we use the reshape method with the given array.\n",
        "* **Syntax:** array.reshape(shape)\n",
        "  * shape: a tuple given as input, the values in tuple will be the new shape of the array."
      ]
    },
    {
      "cell_type": "code",
      "execution_count": null,
      "metadata": {
        "colab": {
          "base_uri": "https://localhost:8080/"
        },
        "id": "iYbHCKdPk5hb",
        "outputId": "4d60f503-c56e-46dc-8225-0a9b7d287e7b"
      },
      "outputs": [
        {
          "output_type": "execute_result",
          "data": {
            "text/plain": [
              "array([0, 1, 2, 3, 4, 5, 6, 7, 8, 9])"
            ]
          },
          "metadata": {},
          "execution_count": 3
        }
      ],
      "source": [
        "# defining an array with values 0 to 9\n",
        "import numpy as np\n",
        "\n",
        "arr4 = np.arange(0,10)\n",
        "arr4"
      ]
    },
    {
      "cell_type": "code",
      "execution_count": null,
      "metadata": {
        "colab": {
          "base_uri": "https://localhost:8080/"
        },
        "id": "SE6wnu1MlbXv",
        "outputId": "a6837124-a494-4737-d7f8-71b9ddcfd67c"
      },
      "outputs": [
        {
          "output_type": "execute_result",
          "data": {
            "text/plain": [
              "array([[0, 1, 2, 3, 4],\n",
              "       [5, 6, 7, 8, 9]])"
            ]
          },
          "metadata": {},
          "execution_count": 4
        }
      ],
      "source": [
        "# reshaping the array arr4 to a 2 x 5 matrix\n",
        "arr4_reshaped = arr4.reshape((2,5))\n",
        "arr4_reshaped"
      ]
    },
    {
      "cell_type": "code",
      "execution_count": null,
      "metadata": {
        "colab": {
          "base_uri": "https://localhost:8080/"
        },
        "id": "KbuGcnPLFT2m",
        "outputId": "32eec3a5-9457-407d-89fb-7864ba72bb00"
      },
      "outputs": [
        {
          "output_type": "execute_result",
          "data": {
            "text/plain": [
              "array([0, 1, 2, 3, 4, 5, 6, 7, 8, 9])"
            ]
          },
          "metadata": {},
          "execution_count": 5
        }
      ],
      "source": [
        "arr4"
      ]
    },
    {
      "cell_type": "code",
      "execution_count": null,
      "metadata": {
        "colab": {
          "base_uri": "https://localhost:8080/",
          "height": 162
        },
        "id": "HRqcE-TT_-dQ",
        "outputId": "30e2e4a8-2bfb-4174-81f5-62cd90a71501"
      },
      "outputs": [
        {
          "output_type": "error",
          "ename": "ValueError",
          "evalue": "cannot reshape array of size 10 into shape (2,6)",
          "traceback": [
            "\u001b[0;31m---------------------------------------------------------------------------\u001b[0m",
            "\u001b[0;31mValueError\u001b[0m                                Traceback (most recent call last)",
            "\u001b[0;32m<ipython-input-11-d52ee4fd36fa>\u001b[0m in \u001b[0;36m<cell line: 2>\u001b[0;34m()\u001b[0m\n\u001b[1;32m      1\u001b[0m \u001b[0;31m# reshaping the array arr4 to a 2 x 6 matrix\u001b[0m\u001b[0;34m\u001b[0m\u001b[0;34m\u001b[0m\u001b[0m\n\u001b[0;32m----> 2\u001b[0;31m \u001b[0marr4\u001b[0m\u001b[0;34m.\u001b[0m\u001b[0mreshape\u001b[0m\u001b[0;34m(\u001b[0m\u001b[0;34m(\u001b[0m\u001b[0;36m2\u001b[0m\u001b[0;34m,\u001b[0m\u001b[0;36m6\u001b[0m\u001b[0;34m)\u001b[0m\u001b[0;34m)\u001b[0m\u001b[0;34m\u001b[0m\u001b[0;34m\u001b[0m\u001b[0m\n\u001b[0m",
            "\u001b[0;31mValueError\u001b[0m: cannot reshape array of size 10 into shape (2,6)"
          ]
        }
      ],
      "source": [
        "# reshaping the array arr4 to a 2 x 6 matrix\n",
        "arr4.reshape((2,6))"
      ]
    },
    {
      "cell_type": "markdown",
      "metadata": {
        "id": "7DGMoYswCocf"
      },
      "source": [
        "* This did not work because we have 10 elements which we are trying to fit in a 2 X 6 shape which will require 12 elements."
      ]
    },
    {
      "cell_type": "markdown",
      "metadata": {
        "id": "lNd_TddVQtWI"
      },
      "source": [
        "**NumPy can also perform a large number of different mathematical operations and it provides different functions to do so.**\n",
        "\n",
        "NumPy provides:\n",
        "1. Trigonometric functions\n",
        "2. Exponents and Logarithmic functions\n",
        "3. Functions for arithmetic operations between arrays and matrices"
      ]
    },
    {
      "cell_type": "markdown",
      "metadata": {
        "id": "CE9wPRdYn5IB"
      },
      "source": [
        "**Trigonometric functions**"
      ]
    },
    {
      "cell_type": "code",
      "execution_count": null,
      "metadata": {
        "colab": {
          "base_uri": "https://localhost:8080/"
        },
        "id": "6iKAU71XQBXn",
        "outputId": "c4074ec7-11da-4aaf-a1ed-977c6707da25"
      },
      "outputs": [
        {
          "output_type": "stream",
          "name": "stdout",
          "text": [
            "Sine Function: [0.84147098 0.90929743 0.14112001]\n",
            "Cosine Function: -0.6536436208636119\n",
            "Tan Function 1.1578212823495775\n"
          ]
        }
      ],
      "source": [
        "print('Sine Function:',np.sin(np.array([1,2,3])))\n",
        "print('Cosine Function:',np.cos(4))\n",
        "print('Tan Function',np.tan(4))"
      ]
    },
    {
      "cell_type": "markdown",
      "metadata": {
        "id": "9QWy471mQEXT"
      },
      "source": [
        "**Exponents and Logarithmic functions**"
      ]
    },
    {
      "cell_type": "markdown",
      "metadata": {
        "id": "BBKFBoABoyRx"
      },
      "source": [
        "* Exponents"
      ]
    },
    {
      "cell_type": "code",
      "execution_count": null,
      "metadata": {
        "colab": {
          "base_uri": "https://localhost:8080/"
        },
        "id": "aanbLXltoDgt",
        "outputId": "7d1af273-f09f-4c34-9fa0-613511c373bf"
      },
      "outputs": [
        {
          "output_type": "execute_result",
          "data": {
            "text/plain": [
              "7.38905609893065"
            ]
          },
          "metadata": {},
          "execution_count": 13
        }
      ],
      "source": [
        "np.exp(2)"
      ]
    },
    {
      "cell_type": "code",
      "execution_count": null,
      "metadata": {
        "colab": {
          "base_uri": "https://localhost:8080/"
        },
        "id": "9VUfgN_oomI7",
        "outputId": "f567c012-1f2d-4180-9bb7-3db85258a76a"
      },
      "outputs": [
        {
          "output_type": "execute_result",
          "data": {
            "text/plain": [
              "array([  7.3890561 ,  54.59815003, 403.42879349])"
            ]
          },
          "metadata": {},
          "execution_count": 14
        }
      ],
      "source": [
        "arr5 = np.array([2,4,6])\n",
        "np.exp(arr5)"
      ]
    },
    {
      "cell_type": "markdown",
      "metadata": {
        "id": "BgTCC-v6ouZn"
      },
      "source": [
        "* Logarithms"
      ]
    },
    {
      "cell_type": "code",
      "execution_count": null,
      "metadata": {
        "colab": {
          "base_uri": "https://localhost:8080/"
        },
        "id": "7V8RWfDipHOQ",
        "outputId": "0ac424c3-453b-4acb-ffe2-0e9db7ec7325"
      },
      "outputs": [
        {
          "output_type": "execute_result",
          "data": {
            "text/plain": [
              "array([0.69314718, 1.79175947, 2.19722458])"
            ]
          },
          "metadata": {},
          "execution_count": 17
        }
      ],
      "source": [
        "# by default NumPy takes the base of log as e\n",
        "np.log([2,6,9])"
      ]
    },
    {
      "cell_type": "code",
      "execution_count": null,
      "metadata": {
        "colab": {
          "base_uri": "https://localhost:8080/"
        },
        "id": "CH5eCec2pJLo",
        "outputId": "ce25cb54-452f-4724-b61a-198bc2027cc2"
      },
      "outputs": [
        {
          "data": {
            "text/plain": [
              "array([0.69314718, 1.38629436, 1.79175947])"
            ]
          },
          "execution_count": 22,
          "metadata": {},
          "output_type": "execute_result"
        }
      ],
      "source": [
        "np.log(arr5)"
      ]
    },
    {
      "cell_type": "code",
      "execution_count": null,
      "metadata": {
        "colab": {
          "base_uri": "https://localhost:8080/"
        },
        "id": "bgam8aXTpOVc",
        "outputId": "4b46bda4-a38b-4c70-e8c0-5904d7cb8370"
      },
      "outputs": [
        {
          "output_type": "execute_result",
          "data": {
            "text/plain": [
              "0.9030899869919435"
            ]
          },
          "metadata": {},
          "execution_count": 10
        }
      ],
      "source": [
        "## log with base 10\n",
        "np.log10(8)"
      ]
    },
    {
      "cell_type": "markdown",
      "metadata": {
        "id": "jDCujvq0pWZr"
      },
      "source": [
        "**Arithmetic Operations on arrays**"
      ]
    },
    {
      "cell_type": "code",
      "execution_count": null,
      "metadata": {
        "colab": {
          "base_uri": "https://localhost:8080/"
        },
        "id": "SXFDL0TeKJZT",
        "outputId": "64438044-ede5-4bad-97b8-7c2e1ed9788e"
      },
      "outputs": [
        {
          "output_type": "stream",
          "name": "stdout",
          "text": [
            "[1, 2, 3, 4, 5, 6]\n"
          ]
        }
      ],
      "source": [
        "# arithmetic on lists\n",
        "\n",
        "l1 = [1,2,3]\n",
        "l2 = [4,5,6]\n",
        "print(l1+l2)\n",
        "# this does not behave as you would expect!\n"
      ]
    },
    {
      "cell_type": "code",
      "execution_count": null,
      "metadata": {
        "colab": {
          "base_uri": "https://localhost:8080/"
        },
        "id": "MHZKZFP8ppQx",
        "outputId": "7b685f7e-1b36-4f46-e2be-d744e24ab7c8"
      },
      "outputs": [
        {
          "output_type": "stream",
          "name": "stdout",
          "text": [
            "arr7: [1 2 3 4 5]\n",
            "arr8: [3 4 5 6 7]\n"
          ]
        }
      ],
      "source": [
        "# we can +-*/ arrays together\n",
        "\n",
        "# defining two arrays\n",
        "arr7 = np.arange(1,6)\n",
        "print('arr7:', arr7)\n",
        "\n",
        "arr8 = np.arange(3,8)\n",
        "print('arr8:', arr8)"
      ]
    },
    {
      "cell_type": "code",
      "execution_count": null,
      "metadata": {
        "colab": {
          "base_uri": "https://localhost:8080/"
        },
        "id": "xkMkQOL8rHOw",
        "outputId": "4084eaef-7fb1-42ff-b315-0497583fa80d"
      },
      "outputs": [
        {
          "output_type": "stream",
          "name": "stdout",
          "text": [
            "Inverse: [1.         0.5        0.33333333 0.25       0.2       ]\n"
          ]
        }
      ],
      "source": [
        "# print('Addition: ',arr7+arr8)\n",
        "# print('Subtraction: ',arr8-arr7)\n",
        "# print('Multiplication:' , arr7*arr8)\n",
        "# print('Division:', arr7/arr8)\n",
        "print('Inverse:', 1/arr7)\n",
        "# print('Powers:', arr7**arr8) # in python, powers are achieved using **, NOT ^!!! ^ does something completely different!\n"
      ]
    },
    {
      "cell_type": "markdown",
      "metadata": {
        "id": "SrE8fcrFtt7c"
      },
      "source": [
        "**Operations on Matrices**"
      ]
    },
    {
      "cell_type": "code",
      "execution_count": null,
      "metadata": {
        "colab": {
          "base_uri": "https://localhost:8080/"
        },
        "id": "p-lZfDhUrb2b",
        "outputId": "70b60015-c1fd-458a-f53b-7ffabe077eae"
      },
      "outputs": [
        {
          "output_type": "stream",
          "name": "stdout",
          "text": [
            "[[1 2 3]\n",
            " [4 5 6]\n",
            " [7 8 9]]\n",
            "[[1. 0. 0.]\n",
            " [0. 1. 0.]\n",
            " [0. 0. 1.]]\n"
          ]
        }
      ],
      "source": [
        "matrix7 = np.arange(1,10).reshape(3,3)\n",
        "print(matrix7)\n",
        "\n",
        "matrix8 = np.eye(3)\n",
        "print(matrix8)"
      ]
    },
    {
      "cell_type": "code",
      "execution_count": null,
      "metadata": {
        "colab": {
          "base_uri": "https://localhost:8080/"
        },
        "id": "VGBAxsUUtyts",
        "outputId": "7c09e365-d745-4228-9567-45108e93adad"
      },
      "outputs": [
        {
          "output_type": "stream",
          "name": "stdout",
          "text": [
            "Addition: \n",
            " [[ 2.  2.  3.]\n",
            " [ 4.  6.  6.]\n",
            " [ 7.  8. 10.]]\n",
            "Subtraction: \n",
            "  [[0. 2. 3.]\n",
            " [4. 4. 6.]\n",
            " [7. 8. 8.]]\n",
            "Multiplication: \n",
            " [[1. 0. 0.]\n",
            " [0. 5. 0.]\n",
            " [0. 0. 9.]]\n",
            "Division: \n",
            " [[ 1. inf inf]\n",
            " [inf  5. inf]\n",
            " [inf inf  9.]]\n"
          ]
        },
        {
          "output_type": "stream",
          "name": "stderr",
          "text": [
            "<ipython-input-30-b49c47b4c85a>:4: RuntimeWarning: divide by zero encountered in divide\n",
            "  print('Division: \\n', matrix7/matrix8)\n"
          ]
        }
      ],
      "source": [
        "print('Addition: \\n', matrix7+matrix8)\n",
        "print('Subtraction: \\n ', matrix7-matrix8)\n",
        "print('Multiplication: \\n', matrix7*matrix8)\n",
        "print('Division: \\n', matrix7/matrix8)"
      ]
    },
    {
      "cell_type": "markdown",
      "metadata": {
        "id": "c7jHF8Od6mHH"
      },
      "source": [
        "* RuntimeWarning: Errors which occur during program execution(run-time) after successful compilation are called run-time errors.\n",
        "* One of the most common run-time error is division by zero also known as Division error.\n",
        "* Due to division by zero error, we are getting inf (infinity) values because 1/0 is not a defined operation."
      ]
    },
    {
      "cell_type": "markdown",
      "metadata": {
        "id": "3WYcA-OxyL9Y"
      },
      "source": [
        "[link text](https://)**Linear algebra matrix multiplication**"
      ]
    },
    {
      "cell_type": "code",
      "execution_count": null,
      "metadata": {
        "colab": {
          "base_uri": "https://localhost:8080/"
        },
        "id": "nc0PAuG3sM6A",
        "outputId": "8793eab7-fea1-4fa9-b660-60c10db04264"
      },
      "outputs": [
        {
          "output_type": "stream",
          "name": "stdout",
          "text": [
            "First Matrix: \n",
            " [[1 2 3]\n",
            " [4 5 6]\n",
            " [7 8 9]]\n",
            "Second Matrix: \n",
            " [[11 12 13]\n",
            " [14 15 16]\n",
            " [17 18 19]]\n",
            "\n",
            "Multiplication: \n",
            " [[ 90  96 102]\n",
            " [216 231 246]\n",
            " [342 366 390]]\n"
          ]
        }
      ],
      "source": [
        "matrix9 = np.arange(1,10).reshape(3,3)\n",
        "print('First Matrix: \\n',matrix9)\n",
        "\n",
        "matrix10 = np.arange(11,20).reshape(3,3)\n",
        "print('Second Matrix: \\n',matrix10)\n",
        "print('')\n",
        "# taking linear algebra matrix multiplication (some may have heard this called the dot product)\n",
        "print('Multiplication: \\n', matrix9 @ matrix10)"
      ]
    },
    {
      "cell_type": "markdown",
      "metadata": {
        "id": "LQVkMw7Iynfu"
      },
      "source": [
        "**Transpose of a matrix**"
      ]
    },
    {
      "cell_type": "code",
      "execution_count": null,
      "metadata": {
        "colab": {
          "base_uri": "https://localhost:8080/"
        },
        "id": "DJp3NtsrsSM4",
        "outputId": "232557d5-6795-4fe3-e91b-3d96cd68cad4"
      },
      "outputs": [
        {
          "output_type": "stream",
          "name": "stdout",
          "text": [
            "[[1 2 3]\n",
            " [4 5 6]\n",
            " [7 8 9]]\n"
          ]
        }
      ],
      "source": [
        "print(matrix9)"
      ]
    },
    {
      "cell_type": "code",
      "execution_count": null,
      "metadata": {
        "colab": {
          "base_uri": "https://localhost:8080/"
        },
        "id": "MDKJgUlptKet",
        "outputId": "02f933fe-5d15-4d9d-cbaf-f8128df10709"
      },
      "outputs": [
        {
          "data": {
            "text/plain": [
              "array([[1, 4, 7],\n",
              "       [2, 5, 8],\n",
              "       [3, 6, 9]])"
            ]
          },
          "execution_count": 31,
          "metadata": {},
          "output_type": "execute_result"
        }
      ],
      "source": [
        "# taking transpose of matrix\n",
        "np.transpose(matrix9)"
      ]
    },
    {
      "cell_type": "code",
      "execution_count": null,
      "metadata": {
        "colab": {
          "base_uri": "https://localhost:8080/"
        },
        "id": "PwwpvruatMRj",
        "outputId": "dc65b97f-f048-4f02-9efa-14c3ff019b2f"
      },
      "outputs": [
        {
          "output_type": "execute_result",
          "data": {
            "text/plain": [
              "array([[1, 4, 7],\n",
              "       [2, 5, 8],\n",
              "       [3, 6, 9]])"
            ]
          },
          "metadata": {},
          "execution_count": 34
        }
      ],
      "source": [
        "# another way of taking a transpose\n",
        "matrix9.T"
      ]
    },
    {
      "cell_type": "markdown",
      "metadata": {
        "id": "YSl_vQk70bCS"
      },
      "source": [
        "**Function to find minimum and maximum values**"
      ]
    },
    {
      "cell_type": "code",
      "execution_count": null,
      "metadata": {
        "colab": {
          "base_uri": "https://localhost:8080/"
        },
        "id": "TmPZB7tu0a2c",
        "outputId": "bde82f66-fe97-41e5-9450-67ba01c49413"
      },
      "outputs": [
        {
          "output_type": "stream",
          "name": "stdout",
          "text": [
            "[[1 2 3]\n",
            " [4 5 6]\n",
            " [7 8 9]]\n"
          ]
        }
      ],
      "source": [
        "print(matrix9)"
      ]
    },
    {
      "cell_type": "code",
      "execution_count": null,
      "metadata": {
        "colab": {
          "base_uri": "https://localhost:8080/"
        },
        "id": "394LL_BZ0alr",
        "outputId": "f99333ca-7df1-41a0-e211-17bd4756d631"
      },
      "outputs": [
        {
          "output_type": "stream",
          "name": "stdout",
          "text": [
            "Minimum value:  1\n"
          ]
        }
      ],
      "source": [
        "print('Minimum value: ',np.min(matrix9))"
      ]
    },
    {
      "cell_type": "code",
      "execution_count": null,
      "metadata": {
        "colab": {
          "base_uri": "https://localhost:8080/"
        },
        "id": "SVs2Zx0J0ac3",
        "outputId": "44653f77-b413-4e32-9d7c-0013e581b31f"
      },
      "outputs": [
        {
          "output_type": "stream",
          "name": "stdout",
          "text": [
            "Maximum value:  9\n"
          ]
        }
      ],
      "source": [
        "print('Maximum value: ',np.max(matrix9))"
      ]
    },
    {
      "cell_type": "markdown",
      "metadata": {
        "id": "7NNtvTmh0aRf"
      },
      "source": [
        "**Function to generate random samples**"
      ]
    },
    {
      "cell_type": "markdown",
      "metadata": {
        "id": "XO47Cq8L3Gb3"
      },
      "source": [
        "**Using np.random.rand function**\n",
        "\n",
        "* The np.random.rand returns a random NumPy array whose element(s) are drawn randomly from the uniform distribution over [0,1). (including 0 but excluding 1).\n",
        "* **Syntax** - np.random.rand(d0,d1)\n",
        "  * d0,d1 – It represents the dimension of the required array given as int, where d1 is optional."
      ]
    },
    {
      "cell_type": "code",
      "execution_count": null,
      "metadata": {
        "colab": {
          "base_uri": "https://localhost:8080/"
        },
        "id": "Neq3fBGH4N7F",
        "outputId": "e30ac196-b330-44cf-848f-5fcf63e36d6d"
      },
      "outputs": [
        {
          "output_type": "stream",
          "name": "stdout",
          "text": [
            "[0.59670217 0.96462545 0.25812061 0.01136553 0.95959918]\n"
          ]
        }
      ],
      "source": [
        "# Generating random values in an array\n",
        "rand_mat = np.random.rand(5)\n",
        "print(rand_mat)"
      ]
    },
    {
      "cell_type": "code",
      "execution_count": null,
      "metadata": {
        "colab": {
          "base_uri": "https://localhost:8080/"
        },
        "id": "QQHFrAce1570",
        "outputId": "d55baa24-b18b-4803-ce2e-2a90469d4f36"
      },
      "outputs": [
        {
          "output_type": "stream",
          "name": "stdout",
          "text": [
            "[[0.88135782 0.49157065 0.27445562 0.37091252 0.44942867]\n",
            " [0.63042896 0.86280472 0.92384231 0.44387192 0.3358513 ]\n",
            " [0.91823717 0.71463186 0.09916964 0.66872064 0.25585289]\n",
            " [0.55157875 0.29271717 0.90265408 0.96801423 0.62294895]\n",
            " [0.71352508 0.43682258 0.176546   0.95331331 0.42758356]]\n"
          ]
        }
      ],
      "source": [
        "# * Generating random values in a matrix\n",
        "rand_mat = np.random.rand(5,5) # uniform random variable\n",
        "print(rand_mat)"
      ]
    },
    {
      "cell_type": "markdown",
      "metadata": {
        "id": "VvvK-7Sh3PfD"
      },
      "source": [
        "**Using np.random.randn function**\n",
        "\n",
        "* The np.random.randn returns a random numpy array whose sample(s) are drawn randomly from the standard normal distribution (Mean as 0 and standard deviation as 1)\n",
        "\n",
        "* **Syntax** - np.random.randn(d0,d1)\n",
        "  * d0,d1 – It represents the dimension of the output, where d1 is optional."
      ]
    },
    {
      "cell_type": "code",
      "execution_count": null,
      "metadata": {
        "colab": {
          "base_uri": "https://localhost:8080/"
        },
        "id": "Ll_boKdQ4Y-b",
        "outputId": "36b1d9bf-5110-4a42-d6f6-44f4798aabeb"
      },
      "outputs": [
        {
          "output_type": "stream",
          "name": "stdout",
          "text": [
            "0.8818510193061598\n"
          ]
        }
      ],
      "source": [
        "# Generating random values in an array\n",
        "rand_mat2 = np.random.randn(30)\n",
        "print(np.std(rand_mat2))"
      ]
    },
    {
      "cell_type": "code",
      "execution_count": null,
      "metadata": {
        "colab": {
          "base_uri": "https://localhost:8080/"
        },
        "id": "1jaiT-oZ2CyD",
        "outputId": "28c833f7-ad17-47ad-f54f-3e0bdfe44527"
      },
      "outputs": [
        {
          "output_type": "stream",
          "name": "stdout",
          "text": [
            "[[-0.30159786 -1.22704366 -0.53781649  1.0952673   0.67628991]\n",
            " [ 0.04650235  0.21249314 -0.11518254 -0.58390461  1.93022953]\n",
            " [-1.57561908 -0.03110384  2.28362488 -0.91747557  1.77834405]\n",
            " [-1.4490906  -0.62463397  0.20262814 -0.73248043 -1.12468546]\n",
            " [ 0.35150762  0.46778231 -1.74387291  2.26249404 -1.55538973]]\n"
          ]
        }
      ],
      "source": [
        "# Generating random values in a matrix\n",
        "rand_mat2 = np.random.randn(5,5)\n",
        "print(rand_mat2)"
      ]
    },
    {
      "cell_type": "code",
      "execution_count": null,
      "metadata": {
        "colab": {
          "base_uri": "https://localhost:8080/"
        },
        "id": "TldcCrOS5ulV",
        "outputId": "881ad082-9b70-48e2-fcd6-1cedc4b9a72e"
      },
      "outputs": [
        {
          "output_type": "stream",
          "name": "stdout",
          "text": [
            "Mean: -0.04850933984727359\n",
            "Standard Deviation: 1.1758942628489049\n"
          ]
        }
      ],
      "source": [
        "# Let's check the mean and standard deviation of rand_mat2\n",
        "print('Mean:',np.mean(rand_mat2))\n",
        "print('Standard Deviation:',np.std(rand_mat2))"
      ]
    },
    {
      "cell_type": "markdown",
      "metadata": {
        "id": "66BnHAPW6Ere"
      },
      "source": [
        "*  We observe that the mean is very close to 0 and standard deviation is very close to 1."
      ]
    },
    {
      "cell_type": "markdown",
      "metadata": {
        "id": "T_0yFxGh3U2D"
      },
      "source": [
        "**Using np.random.randint function**\n",
        "\n",
        "* The np.random.randint returns a random numpy array whose element(s) are drawn randomly from low (inclusive) to the high (exclusive) range.\n",
        "\n",
        "* **Syntax** - np.random.randint(low, high, size)\n",
        "\n",
        "  * low – It represents the lowest inclusive bound of the distribution from where the sample can be drawn.\n",
        "  * high – It represents the upper exclusive bound of the distribution from where the sample can be drawn.\n",
        "  * size – It represents the shape of the output."
      ]
    },
    {
      "cell_type": "code",
      "execution_count": null,
      "metadata": {
        "colab": {
          "base_uri": "https://localhost:8080/"
        },
        "id": "vLPM7a0N2EHA",
        "outputId": "ca21620a-a581-4369-bfdd-0440f8d00346"
      },
      "outputs": [
        {
          "output_type": "stream",
          "name": "stdout",
          "text": [
            "[5 4 5 3 2 3 1 0 5 0]\n"
          ]
        }
      ],
      "source": [
        "# Generating random values in an array\n",
        "rand_mat3 = np.random.randint(0,6,10)\n",
        "print(rand_mat3)"
      ]
    },
    {
      "cell_type": "code",
      "execution_count": null,
      "metadata": {
        "colab": {
          "base_uri": "https://localhost:8080/"
        },
        "id": "u9YqKltk486n",
        "outputId": "b9ee4c7b-b56a-4ace-cec3-d8055b4f85e4"
      },
      "outputs": [
        {
          "output_type": "stream",
          "name": "stdout",
          "text": [
            "[[6 4 8 8 4]\n",
            " [1 9 2 5 8]\n",
            " [3 4 3 1 2]\n",
            " [7 3 7 4 8]\n",
            " [2 8 7 1 8]]\n"
          ]
        }
      ],
      "source": [
        "# Generating random values in a matrix\n",
        "rand_mat3 = np.random.randint(1,10,(5,5))\n",
        "print(rand_mat3)"
      ]
    },
    {
      "cell_type": "markdown",
      "metadata": {
        "id": "J-K_ecWJ6M6n"
      },
      "source": [
        "### 2.3 Accessing the entries of a Numpy Array"
      ]
    },
    {
      "cell_type": "code",
      "execution_count": null,
      "metadata": {
        "colab": {
          "base_uri": "https://localhost:8080/"
        },
        "id": "4Tiy6KJw3a5A",
        "outputId": "cdcaa926-66db-476b-e3d7-b8bffc967d16"
      },
      "outputs": [
        {
          "output_type": "stream",
          "name": "stdout",
          "text": [
            "[ 0.12353111 -0.0660547   0.10944162 -0.11777653  1.21814101 -0.20279157\n",
            "  1.54147208 -0.58839549  1.85588929 -0.86077481]\n"
          ]
        }
      ],
      "source": [
        "# let's generate an array with 10 random values\n",
        "import numpy as np\n",
        "rand_arr = np.random.randn(10)\n",
        "print(rand_arr)"
      ]
    },
    {
      "cell_type": "markdown",
      "metadata": {
        "id": "gJlNtFKwaZUv"
      },
      "source": [
        "* Accessing one element from an array"
      ]
    },
    {
      "cell_type": "code",
      "execution_count": null,
      "metadata": {
        "colab": {
          "base_uri": "https://localhost:8080/",
          "height": 162
        },
        "id": "PtSqbI-Y3awc",
        "outputId": "0e20db8f-4915-49cc-941a-314bb484c02e"
      },
      "outputs": [
        {
          "output_type": "error",
          "ename": "IndexError",
          "evalue": "index 12 is out of bounds for axis 0 with size 10",
          "traceback": [
            "\u001b[0;31m---------------------------------------------------------------------------\u001b[0m",
            "\u001b[0;31mIndexError\u001b[0m                                Traceback (most recent call last)",
            "\u001b[0;32m<ipython-input-3-a153091f0a8f>\u001b[0m in \u001b[0;36m<cell line: 2>\u001b[0;34m()\u001b[0m\n\u001b[1;32m      1\u001b[0m \u001b[0;31m# accessing the 6 th entry of rand_arr\u001b[0m\u001b[0;34m\u001b[0m\u001b[0;34m\u001b[0m\u001b[0m\n\u001b[0;32m----> 2\u001b[0;31m \u001b[0mprint\u001b[0m\u001b[0;34m(\u001b[0m\u001b[0mrand_arr\u001b[0m\u001b[0;34m[\u001b[0m\u001b[0;36m12\u001b[0m\u001b[0;34m]\u001b[0m\u001b[0;34m)\u001b[0m\u001b[0;34m\u001b[0m\u001b[0;34m\u001b[0m\u001b[0m\n\u001b[0m",
            "\u001b[0;31mIndexError\u001b[0m: index 12 is out of bounds for axis 0 with size 10"
          ]
        }
      ],
      "source": [
        "# accessing the 6 th entry of rand_arr\n",
        "print(rand_arr[12])"
      ]
    },
    {
      "cell_type": "markdown",
      "metadata": {
        "id": "Ywt2eQx-aZUv"
      },
      "source": [
        "* Accessing multiple elements from an array"
      ]
    },
    {
      "cell_type": "code",
      "execution_count": null,
      "metadata": {
        "colab": {
          "base_uri": "https://localhost:8080/"
        },
        "id": "HZ8Yb_3h3amG",
        "outputId": "3d1e53e5-87bc-4d82-bb21-8471d83f64a1"
      },
      "outputs": [
        {
          "output_type": "stream",
          "name": "stdout",
          "text": [
            "[ 1.21814101 -0.20279157  1.54147208 -0.58839549  1.85588929 -0.86077481]\n"
          ]
        }
      ],
      "source": [
        "# we can access multiple entries at once using\n",
        "print(rand_arr[4:12])"
      ]
    },
    {
      "cell_type": "code",
      "execution_count": null,
      "metadata": {
        "colab": {
          "base_uri": "https://localhost:8080/"
        },
        "id": "pNcRsFbK3aZP",
        "outputId": "14dfcf94-2a9a-421b-d12f-cb6804e53826"
      },
      "outputs": [
        {
          "output_type": "stream",
          "name": "stdout",
          "text": [
            "Index of values to access:  [ 3  6  9 12]\n",
            "[-0.11777653  1.54147208 -0.86077481]\n"
          ]
        }
      ],
      "source": [
        "# we can also access multiple non-consecutive entries using np.arange\n",
        "print('Index of values to access: ',np.arange(3,13,3))\n",
        "print(rand_arr[np.arange(3,10,3)])"
      ]
    },
    {
      "cell_type": "markdown",
      "metadata": {
        "id": "m0_dOkPKc7bL"
      },
      "source": [
        "**Accessing arrays using logical operations**"
      ]
    },
    {
      "cell_type": "code",
      "execution_count": null,
      "metadata": {
        "colab": {
          "base_uri": "https://localhost:8080/"
        },
        "id": "_8v77EwOcwPM",
        "outputId": "a89278af-9717-4da7-be1f-98576c486bec"
      },
      "outputs": [
        {
          "output_type": "stream",
          "name": "stdout",
          "text": [
            "[ 0.12353111 -0.0660547   0.10944162 -0.11777653  1.21814101 -0.20279157\n",
            "  1.54147208 -0.58839549  1.85588929 -0.86077481]\n"
          ]
        }
      ],
      "source": [
        "print(rand_arr)"
      ]
    },
    {
      "cell_type": "code",
      "execution_count": null,
      "metadata": {
        "colab": {
          "base_uri": "https://localhost:8080/"
        },
        "id": "u7QvbkGfc_Mf",
        "outputId": "e8d20b7e-19a9-4128-982c-787e19412c1a"
      },
      "outputs": [
        {
          "data": {
            "text/plain": [
              "array([False,  True, False,  True,  True,  True, False,  True,  True,\n",
              "        True])"
            ]
          },
          "execution_count": 48,
          "metadata": {},
          "output_type": "execute_result"
        }
      ],
      "source": [
        "rand_arr>0"
      ]
    },
    {
      "cell_type": "code",
      "execution_count": null,
      "metadata": {
        "colab": {
          "base_uri": "https://localhost:8080/"
        },
        "id": "PwjFRjDiczAS",
        "outputId": "a41c1aa0-7fef-4053-f243-7b8df7eed3d1"
      },
      "outputs": [
        {
          "name": "stdout",
          "output_type": "stream",
          "text": [
            "Values greater than 0:  [0.256255   1.69663775 0.14830608 0.0587465  0.09827507 1.38926594\n",
            " 0.52114238]\n",
            "Values less than 0:  [-0.61610084 -1.02474372 -0.58451129]\n"
          ]
        }
      ],
      "source": [
        "# accessing all the values of rand_arr which are greater than 0\n",
        "print('Values greater than 0: ',rand_arr[rand_arr>0])\n",
        "\n",
        "# accessing all the values of rand_arr which are less than 0\n",
        "print('Values less than 0: ',rand_arr[rand_arr<0])"
      ]
    },
    {
      "cell_type": "markdown",
      "metadata": {
        "id": "9j2nb_lX3aKJ"
      },
      "source": [
        "**Accessing the entries of a Matrix**"
      ]
    },
    {
      "cell_type": "code",
      "execution_count": null,
      "metadata": {
        "colab": {
          "base_uri": "https://localhost:8080/"
        },
        "id": "rUT3MtuX3Z-o",
        "outputId": "b3ed2e71-5281-4f27-be9f-cbadc726019c"
      },
      "outputs": [
        {
          "output_type": "stream",
          "name": "stdout",
          "text": [
            "[[-0.31715046 -0.73511982 -1.48310359 -0.4095231  -0.6107104 ]\n",
            " [ 1.63117097 -0.39155942 -0.60188198  1.67889883 -1.85442944]\n",
            " [-0.99201127 -1.79212289  0.72791311  0.66813725  0.33590414]\n",
            " [-0.67037163 -0.20385751  0.59013439 -0.0479309   1.11638809]\n",
            " [ 1.10658005 -1.77514831  0.97695853  0.86539246 -0.06341098]]\n"
          ]
        }
      ],
      "source": [
        "# let's generate an array with 10 random values\n",
        "rand_mat = np.random.randn(5,5)\n",
        "print(rand_mat)"
      ]
    },
    {
      "cell_type": "code",
      "execution_count": null,
      "metadata": {
        "colab": {
          "base_uri": "https://localhost:8080/"
        },
        "id": "aH5KNWYJ8AAi",
        "outputId": "95dddd73-7b44-441f-f1ca-9ef4bdbe517f"
      },
      "outputs": [
        {
          "data": {
            "text/plain": [
              "array([ 0.68692112,  1.20042327, -0.55648032,  0.51675983, -1.13325252])"
            ]
          },
          "execution_count": 51,
          "metadata": {},
          "output_type": "execute_result"
        }
      ],
      "source": [
        "# acessing the second row of the rand_mat\n",
        "rand_mat[1]"
      ]
    },
    {
      "cell_type": "code",
      "execution_count": null,
      "metadata": {
        "colab": {
          "base_uri": "https://localhost:8080/"
        },
        "id": "cKPauEeS3Zya",
        "outputId": "0749dd35-bbd7-4735-839b-0c1f578f18d9"
      },
      "outputs": [
        {
          "output_type": "stream",
          "name": "stdout",
          "text": [
            "0.9238423079901205\n",
            "0.9238423079901205\n"
          ]
        }
      ],
      "source": [
        "# acessing third element of the second row\n",
        "print(rand_mat[1][2])\n",
        "\n",
        "#or\n",
        "\n",
        "print(rand_mat[1,2])"
      ]
    },
    {
      "cell_type": "code",
      "execution_count": null,
      "metadata": {
        "colab": {
          "base_uri": "https://localhost:8080/"
        },
        "id": "md90xMiX3ZhX",
        "outputId": "d9b022f4-9775-4033-ce20-de29677fffc1"
      },
      "outputs": [
        {
          "name": "stdout",
          "output_type": "stream",
          "text": [
            "[[-0.91860835 -0.91768744]\n",
            " [ 1.20042327 -0.55648032]]\n"
          ]
        }
      ],
      "source": [
        "# accessing first two rows with second and third column\n",
        "print(rand_mat[0:2,1:3])"
      ]
    },
    {
      "cell_type": "markdown",
      "metadata": {
        "id": "ZQIPaCTxdTkx"
      },
      "source": [
        "**Accessing matrices using logical operations**"
      ]
    },
    {
      "cell_type": "code",
      "execution_count": null,
      "metadata": {
        "colab": {
          "base_uri": "https://localhost:8080/"
        },
        "id": "FPWAgqcMdTkx",
        "outputId": "ef043200-ba29-40d3-9096-ac4593f1599a"
      },
      "outputs": [
        {
          "output_type": "stream",
          "name": "stdout",
          "text": [
            "[[0.88135782 0.49157065 0.27445562 0.37091252 0.44942867]\n",
            " [0.63042896 0.86280472 0.92384231 0.44387192 0.3358513 ]\n",
            " [0.91823717 0.71463186 0.09916964 0.66872064 0.25585289]\n",
            " [0.55157875 0.29271717 0.90265408 0.96801423 0.62294895]\n",
            " [0.71352508 0.43682258 0.176546   0.95331331 0.42758356]]\n"
          ]
        }
      ],
      "source": [
        "print(rand_mat)"
      ]
    },
    {
      "cell_type": "code",
      "execution_count": null,
      "metadata": {
        "colab": {
          "base_uri": "https://localhost:8080/"
        },
        "id": "5pBwxeo_dTky",
        "outputId": "c21522ed-02b3-4525-ac98-670b4cf2075c"
      },
      "outputs": [
        {
          "output_type": "stream",
          "name": "stdout",
          "text": [
            "Values greater than 0: \n",
            "  [0.88135782 0.49157065 0.27445562 0.37091252 0.44942867 0.63042896\n",
            " 0.86280472 0.92384231 0.44387192 0.3358513  0.91823717 0.71463186\n",
            " 0.09916964 0.66872064 0.25585289 0.55157875 0.29271717 0.90265408\n",
            " 0.96801423 0.62294895 0.71352508 0.43682258 0.176546   0.95331331\n",
            " 0.42758356]\n",
            "Values less than 0: \n",
            " []\n"
          ]
        }
      ],
      "source": [
        "# accessing all the values of rand_mat which are greater than 0\n",
        "print('Values greater than 0: \\n ',rand_mat[rand_mat>0])\n",
        "\n",
        "# accessing all the values of rand_mat which are less than 0\n",
        "print('Values less than 0: \\n',rand_mat[rand_mat<0])"
      ]
    },
    {
      "cell_type": "markdown",
      "metadata": {
        "id": "Rbc_yo5T8mmS"
      },
      "source": [
        "**Modifying the entries of an Array**"
      ]
    },
    {
      "cell_type": "code",
      "execution_count": null,
      "metadata": {
        "colab": {
          "base_uri": "https://localhost:8080/"
        },
        "id": "2P57NUFJ8mMA",
        "outputId": "9286d847-f88d-4f21-aaba-d0a656015487"
      },
      "outputs": [
        {
          "output_type": "stream",
          "name": "stdout",
          "text": [
            "[65.         65.         65.          5.          5.         -0.20279157\n",
            " 65.         -0.58839549 65.         -0.86077481]\n"
          ]
        }
      ],
      "source": [
        "print(rand_arr)\n"
      ]
    },
    {
      "cell_type": "code",
      "execution_count": null,
      "metadata": {
        "colab": {
          "base_uri": "https://localhost:8080/"
        },
        "id": "5dTfDf2d-DF7",
        "outputId": "92061d06-4812-4097-f77c-cb97f691571d"
      },
      "outputs": [
        {
          "output_type": "stream",
          "name": "stdout",
          "text": [
            "[65.         65.         65.          5.          5.         -0.20279157\n",
            " 65.         -0.58839549 65.         -0.86077481]\n"
          ]
        }
      ],
      "source": [
        "# let's change some values in an array!\n",
        "# changing the values of index value 3 and index value 4 to 5\n",
        "rand_arr[3:5] = 5\n",
        "print(rand_arr)"
      ]
    },
    {
      "cell_type": "code",
      "execution_count": null,
      "metadata": {
        "colab": {
          "base_uri": "https://localhost:8080/"
        },
        "id": "dC1yVJLT-H9H",
        "outputId": "dd5e506b-7e8f-4f72-c265-88cfcb42537a"
      },
      "outputs": [
        {
          "output_type": "stream",
          "name": "stdout",
          "text": [
            "[ 2.          3.          0.10944162  5.          5.         -0.20279157\n",
            "  1.54147208 -0.58839549  1.85588929 -0.86077481]\n"
          ]
        }
      ],
      "source": [
        "# changing the values of index value 0 and index value 1 to 2 and 3 respectively\n",
        "rand_arr[0:2] = [2,3]\n",
        "print(rand_arr)"
      ]
    },
    {
      "cell_type": "code",
      "execution_count": null,
      "metadata": {
        "colab": {
          "base_uri": "https://localhost:8080/"
        },
        "id": "wT3ishttMugE",
        "outputId": "4955b776-3c5a-4a54-e2ae-eb78a566e967"
      },
      "outputs": [
        {
          "output_type": "execute_result",
          "data": {
            "text/plain": [
              "array([65.        , 65.        , 65.        , 65.        , 65.        ,\n",
              "       -0.20279157, 65.        , -0.58839549, 65.        , -0.86077481])"
            ]
          },
          "metadata": {},
          "execution_count": 24
        }
      ],
      "source": [
        "# modify entries using logical references\n",
        "rand_arr[rand_arr>0] = 65\n",
        "rand_arr"
      ]
    },
    {
      "cell_type": "markdown",
      "metadata": {
        "id": "lhoMit_Da8F4"
      },
      "source": [
        "**Modifying the entries of a Matrix**"
      ]
    },
    {
      "cell_type": "code",
      "execution_count": null,
      "metadata": {
        "colab": {
          "base_uri": "https://localhost:8080/"
        },
        "id": "fJ02uz8obsqC",
        "outputId": "a7488bd7-39c6-4f69-ba1f-4d465f379353"
      },
      "outputs": [
        {
          "output_type": "stream",
          "name": "stdout",
          "text": [
            "[[-0.31715046 -0.73511982 -1.48310359 -0.4095231  -0.6107104 ]\n",
            " [ 1.63117097 -0.39155942 -0.60188198  0.          0.        ]\n",
            " [-0.99201127 -1.79212289  0.72791311  0.          0.        ]\n",
            " [-0.67037163 -0.20385751  0.59013439 -0.0479309   1.11638809]\n",
            " [ 1.10658005 -1.77514831  0.97695853  0.86539246 -0.06341098]]\n"
          ]
        }
      ],
      "source": [
        "print(rand_mat)"
      ]
    },
    {
      "cell_type": "code",
      "execution_count": null,
      "metadata": {
        "colab": {
          "base_uri": "https://localhost:8080/"
        },
        "id": "dVNbm4oKNtkr",
        "outputId": "3f37590a-a676-4a3d-cc42-1a2d7d36d356"
      },
      "outputs": [
        {
          "output_type": "stream",
          "name": "stdout",
          "text": [
            "Matrix before modification: \n",
            " [[-0.31715046 -0.73511982 -1.48310359 -0.4095231  -0.6107104 ]\n",
            " [ 1.63117097 -0.39155942 -0.60188198  0.          0.        ]\n",
            " [-0.99201127 -1.79212289  0.72791311  0.          0.        ]\n",
            " [-0.67037163 -0.20385751  0.59013439 -0.0479309   1.11638809]\n",
            " [ 1.10658005 -1.77514831  0.97695853  0.86539246 -0.06341098]]\n",
            "Matrix after modification: \n",
            " [[-0.31715046 -0.73511982 -1.48310359 -0.4095231  -0.6107104 ]\n",
            " [ 1.63117097 -0.39155942 -0.60188198  0.          0.        ]\n",
            " [-0.99201127 -1.79212289  0.72791311  0.          0.        ]\n",
            " [-0.67037163 -0.20385751  0.59013439 -0.0479309   1.11638809]\n",
            " [ 1.10658005 -1.77514831  0.97695853  0.86539246 -0.06341098]]\n"
          ]
        }
      ],
      "source": [
        "# changing the values of the 4th and 5th element of the second and third rows of the matrix to 0\n",
        "print('Matrix before modification: \\n',rand_mat)\n",
        "rand_mat[1:3,3:5] = 0\n",
        "print('Matrix after modification: \\n',rand_mat)"
      ]
    },
    {
      "cell_type": "code",
      "execution_count": null,
      "metadata": {
        "colab": {
          "base_uri": "https://localhost:8080/"
        },
        "id": "uP3butowNtvp",
        "outputId": "8c2e7f48-c204-4d2d-f894-c924bab3029f"
      },
      "outputs": [
        {
          "output_type": "stream",
          "name": "stdout",
          "text": [
            "[[-0.31715046 -0.73511982 -1.48310359]\n",
            " [ 1.63117097 -0.39155942 -0.60188198]]\n"
          ]
        }
      ],
      "source": [
        "# extracting the first 2 rows and first 3 columns from the matrix\n",
        "sub_mat = rand_mat[0:2,0:3]\n",
        "print(sub_mat)"
      ]
    },
    {
      "cell_type": "code",
      "execution_count": null,
      "metadata": {
        "colab": {
          "base_uri": "https://localhost:8080/"
        },
        "id": "3DgctOvENt14",
        "outputId": "1fcd3fc4-c034-42f6-ab22-d0d2f7efd564"
      },
      "outputs": [
        {
          "output_type": "stream",
          "name": "stdout",
          "text": [
            "[[3. 3. 3.]\n",
            " [3. 3. 3.]]\n"
          ]
        }
      ],
      "source": [
        "# changing all the values of the extracted matrix to 3\n",
        "sub_mat[:] = 3\n",
        "print(sub_mat)"
      ]
    },
    {
      "cell_type": "code",
      "execution_count": null,
      "metadata": {
        "colab": {
          "base_uri": "https://localhost:8080/"
        },
        "id": "hskgV9vG9lxx",
        "outputId": "6fd1e48f-3068-416a-954f-7dcb7d1330f2"
      },
      "outputs": [
        {
          "output_type": "execute_result",
          "data": {
            "text/plain": [
              "array([[ 3.        ,  3.        ,  3.        , -0.4095231 , -0.6107104 ],\n",
              "       [ 3.        ,  3.        ,  3.        ,  0.        ,  0.        ],\n",
              "       [-0.99201127, -1.79212289,  0.72791311,  0.        ,  0.        ],\n",
              "       [-0.67037163, -0.20385751,  0.59013439, -0.0479309 ,  1.11638809],\n",
              "       [ 1.10658005, -1.77514831,  0.97695853,  0.86539246, -0.06341098]])"
            ]
          },
          "metadata": {},
          "execution_count": 42
        }
      ],
      "source": [
        "# what happened to rand_mat when we change sub_mat?\n",
        "rand_mat"
      ]
    },
    {
      "cell_type": "code",
      "execution_count": null,
      "metadata": {
        "colab": {
          "base_uri": "https://localhost:8080/"
        },
        "id": "PryCb2h29sHx",
        "outputId": "81dcbe64-de3d-4f29-9028-62392187ad6c"
      },
      "outputs": [
        {
          "output_type": "stream",
          "name": "stdout",
          "text": [
            "[[-0.42952611  0.14500791  0.41818604  0.15416116 -0.16825472]\n",
            " [ 1.03856746  1.99896305  0.11285177 -1.27244377  0.804722  ]\n",
            " [ 1.83935993  0.9887015  -0.09979662 -0.84550204 -2.15059408]\n",
            " [-0.11159734 -0.17331653  0.24644226 -0.91329168 -0.60213738]\n",
            " [-2.0266781  -0.98278158  1.18242074 -0.42534537  1.23675954]]\n",
            "[[3. 3. 3.]\n",
            " [3. 3. 3.]]\n",
            "[[-0.42952611  0.14500791  0.41818604  0.15416116 -0.16825472]\n",
            " [ 1.03856746  1.99896305  0.11285177 -1.27244377  0.804722  ]\n",
            " [ 1.83935993  0.9887015  -0.09979662 -0.84550204 -2.15059408]\n",
            " [-0.11159734 -0.17331653  0.24644226 -0.91329168 -0.60213738]\n",
            " [-2.0266781  -0.98278158  1.18242074 -0.42534537  1.23675954]]\n"
          ]
        }
      ],
      "source": [
        "# to prevent this behavior we need to use the .copy() method when we assign sub_mat\n",
        "# this behavior is the source of MANY errors for early python users!!!\n",
        "\n",
        "rand_mat = np.random.randn(5,5)\n",
        "print(rand_mat)\n",
        "sub_mat = rand_mat[0:2,0:3].copy()\n",
        "sub_mat[:] = 3\n",
        "print(sub_mat)\n",
        "print(rand_mat)"
      ]
    },
    {
      "cell_type": "markdown",
      "metadata": {
        "id": "Uhy7xJlW0aDT"
      },
      "source": [
        "### 2.4 Saving and Loading a NumPy array"
      ]
    },
    {
      "cell_type": "markdown",
      "metadata": {
        "id": "qlyONcw5FeSh"
      },
      "source": [
        "**Let's save some NumPy objects on the disk for use later!**"
      ]
    },
    {
      "cell_type": "code",
      "execution_count": 2,
      "metadata": {
        "colab": {
          "base_uri": "https://localhost:8080/"
        },
        "id": "gikqL10PzrC1",
        "outputId": "7c14101e-eb69-4d10-9c76-c1eb9941de89"
      },
      "outputs": [
        {
          "output_type": "stream",
          "name": "stdout",
          "text": [
            "Mounted at /content/drive\n"
          ]
        }
      ],
      "source": [
        "from google.colab import drive\n",
        "drive.mount('/content/drive')"
      ]
    },
    {
      "cell_type": "code",
      "execution_count": null,
      "metadata": {
        "colab": {
          "base_uri": "https://localhost:8080/"
        },
        "id": "G_w4dYUtFzZO",
        "outputId": "b964d947-2c52-4ea4-9926-c3aea1d4d050"
      },
      "outputs": [
        {
          "name": "stdout",
          "output_type": "stream",
          "text": [
            "[[7 2 9 7 2]\n",
            " [6 6 5 7 2]]\n",
            "\n",
            "[[10 16 12 17 18]\n",
            " [19 12 11 13 17]]\n"
          ]
        }
      ],
      "source": [
        "# creating a random matrices\n",
        "randint_matrix1 = np.random.randint(1,10,10).reshape(2,5)\n",
        "print(randint_matrix1)\n",
        "print('')\n",
        "randint_matrix2 = np.random.randint(10,20,10).reshape(2,5)\n",
        "print(randint_matrix2)"
      ]
    },
    {
      "cell_type": "markdown",
      "metadata": {
        "id": "rysUk_pSFU1O"
      },
      "source": [
        "**Using np.save() function**"
      ]
    },
    {
      "cell_type": "code",
      "execution_count": null,
      "metadata": {
        "id": "k9TyLFJ-tkU2"
      },
      "outputs": [],
      "source": [
        "np.save('/content/drive/MyDrive/Python Course/saved_file_name',randint_matrix1)"
      ]
    },
    {
      "cell_type": "markdown",
      "metadata": {
        "id": "VMfbQlc2FYNl"
      },
      "source": [
        "**Using np.savez() function**"
      ]
    },
    {
      "cell_type": "code",
      "execution_count": null,
      "metadata": {
        "id": "dhtVPefIRfGP"
      },
      "outputs": [],
      "source": [
        "np.savez('/content/drive/MyDrive/Python Course/multiple_files',randint_matrix1=randint_matrix1,randint_matrix2=randint_matrix2)"
      ]
    },
    {
      "cell_type": "markdown",
      "metadata": {
        "id": "hDbZNqdLDj35"
      },
      "source": [
        "* The files will be saved in the directory where the Jupyter Notebook is located.\n",
        "* With np.save() function, we can save an array/matrix to a NumPy .npy format.\n",
        "* np.savez() function has an advantage over np.save() function because with np.savez(), we can store several arrays/matrices into a single file in uncompressed .npz format."
      ]
    },
    {
      "cell_type": "code",
      "execution_count": null,
      "metadata": {
        "id": "h7mYd86cZeTq"
      },
      "outputs": [],
      "source": [
        "# now let's load it\n",
        "loaded_arr = np.load('/content/drive/MyDrive/Python Course/saved_file_name.npy')\n",
        "loaded_multi = np.load('/content/drive/MyDrive/Python Course/multiple_files.npz')\n",
        "\n",
        "print(loaded_arr)\n",
        "print('')\n",
        "print(loaded_multi)"
      ]
    },
    {
      "cell_type": "markdown",
      "metadata": {
        "id": "21XxghDDG69T"
      },
      "source": [
        "* We see that .npy file has been loaded but the .npz file is returning a memory location.\n",
        "* Let's see how to load the values stored in .npz file."
      ]
    },
    {
      "cell_type": "code",
      "execution_count": null,
      "metadata": {
        "id": "VezEM4uPZeZk"
      },
      "outputs": [],
      "source": [
        "print('1st Matrix: \\n',loaded_multi['randint_matrix1'])\n",
        "print('2nd Matrix: \\n',loaded_multi['randint_matrix2'])\n",
        "\n",
        "new_matrix  = loaded_multi['randint_matrix1']\n",
        "print('New Matrix: \\n',new_matrix)"
      ]
    },
    {
      "cell_type": "code",
      "execution_count": null,
      "metadata": {
        "id": "AyyZjATxZefd"
      },
      "outputs": [],
      "source": [
        "# we can also save/load text files...but only single variables\n",
        "np.savetxt('/content/drive/MyDrive/Python Course/text_file_name.txt',randint_matrix1,delimiter=',')\n",
        "rand_mat_txt = np.loadtxt('/content/drive/MyDrive/Python Course/text_file_name.txt',delimiter=',')\n",
        "print(randint_matrix1)\n",
        "print('')\n",
        "print(rand_mat_txt)"
      ]
    },
    {
      "cell_type": "code",
      "execution_count": null,
      "metadata": {
        "id": "WiTOg-jNzE82"
      },
      "outputs": [],
      "source": []
    }
  ],
  "metadata": {
    "colab": {
      "provenance": [],
      "include_colab_link": true
    },
    "kernelspec": {
      "display_name": "Python 3 (ipykernel)",
      "language": "python",
      "name": "python3"
    },
    "language_info": {
      "codemirror_mode": {
        "name": "ipython",
        "version": 3
      },
      "file_extension": ".py",
      "mimetype": "text/x-python",
      "name": "python",
      "nbconvert_exporter": "python",
      "pygments_lexer": "ipython3",
      "version": "3.9.7"
    }
  },
  "nbformat": 4,
  "nbformat_minor": 0
}